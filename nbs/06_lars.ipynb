{
 "cells": [
  {
   "cell_type": "code",
   "execution_count": null,
   "metadata": {},
   "outputs": [],
   "source": [
    "# default_exp lars "
   ]
  },
  {
   "cell_type": "markdown",
   "metadata": {},
   "source": [
    "# lars\n",
    "\n",
    "> using LARS-WG generated weather data sets\n",
    "\n"
   ]
  },
  {
   "cell_type": "markdown",
   "metadata": {},
   "source": [
    "A common use case for models like AquaCrop-OSPy is to determine the impact of future climate change scenarios on crop production\n",
    "\n",
    "LARS-WG is a weather generator (link) that can generate daily climate time series data for a specifc region under different climate change scenarios as global climate models\n",
    "\n",
    "To help this kind of research we have developed some helpful functions so that LARS-WG generated timeseries can be directly incorperated into AquaCrop-OSPy"
   ]
  },
  {
   "cell_type": "markdown",
   "metadata": {},
   "source": [
    "### Imports"
   ]
  },
  {
   "cell_type": "code",
   "execution_count": null,
   "metadata": {},
   "outputs": [],
   "source": [
    "#export\n",
    "import sys\n",
    "_=[sys.path.append(i) for i in ['.', '..']]"
   ]
  },
  {
   "cell_type": "code",
   "execution_count": null,
   "metadata": {},
   "outputs": [],
   "source": [
    "#hide\n",
    "%load_ext autoreload\n",
    "%autoreload 2"
   ]
  },
  {
   "cell_type": "code",
   "execution_count": null,
   "metadata": {},
   "outputs": [],
   "source": [
    "#export\n",
    "import matplotlib.pyplot as plt\n",
    "import numpy as np\n",
    "import pandas as pd\n",
    "from aquacrop.core import *\n",
    "from aquacrop.classes import *\n",
    "import seaborn as sns"
   ]
  },
  {
   "cell_type": "code",
   "execution_count": null,
   "metadata": {},
   "outputs": [],
   "source": [
    "#export\n",
    "def prepare_lars_weather(file,year,generated=True,order=[\"year\",\"jday\",\"minTemp\",\"maxTemp\",\"precip\",\"rad\"], wind_speed=3.4):\n",
    "    \"\"\"\n",
    "    Uses FAO-PM to calculate reference evapotranspiration for LARS generated and baseline input data.\n",
    "    \n",
    "    \"\"\"\n",
    "    def vap_pres(t):\n",
    "        return 0.6108*np.exp( (17.27*t)/(t+237.3) )\n",
    "    \n",
    "    df = pd.read_csv(file,delim_whitespace=True,header=None)\n",
    "    \n",
    "    if generated:\n",
    "        df.columns=order\n",
    "        df[\"tdelta\"]=pd.to_timedelta(df.jday,unit='D')\n",
    "        df[\"date\"]=pd.to_datetime(f'{year-1}/12/31')+df[\"tdelta\"]\n",
    "        \n",
    "        \n",
    "        psyc=0.054 #sychometric constant\n",
    "        tmean = (df.maxTemp+df.minTemp)/2\n",
    "        e_s = (vap_pres(df.maxTemp)+vap_pres(df.minTemp))/2\n",
    "        e_a = vap_pres(df.minTemp)\n",
    "        slope = 4098*vap_pres(tmean)/(tmean+237.3)**2\n",
    "        R_ns=(1-0.23)*df.rad\n",
    "        sb_const = 4.903e-9\n",
    "        R_nl = sb_const*0.5*((df.maxTemp+273.15)**4+(df.minTemp+273.15)**4)*(0.34-0.14*(e_a)**0.5)*(1.35*0.77-0.35)\n",
    "        Rn = R_ns-R_nl\n",
    "        u2=wind_speed\n",
    "\n",
    "        eto = 0.408*slope*Rn+ (psyc*900*u2*(e_s-e_a)/(tmean+273))/(slope+psyc*(1+0.34*u2))\n",
    "        df[\"eto\"] = eto\n",
    "        \n",
    "        #df[\"eto\"] = df.rad*(0.0023)*(((df.maxTemp+df.minTemp)/2)+17.8)*(df.maxTemp-df.minTemp)**0.5\n",
    "        df.eto=df.eto.clip(0.1)\n",
    "        df=df[[\"simyear\",\"minTemp\",\"maxTemp\",\"precip\",\"eto\",'date']]\n",
    "        df.columns=[\"simyear\",\"MinTemp\",\"MaxTemp\",\"Precipitation\",\"ReferenceET\",\"Date\"]\n",
    "\n",
    "\n",
    "    else:\n",
    "        df.columns=order\n",
    "        df['date'] = pd.to_datetime(df.year, format='%Y') + pd.to_timedelta(df.jday - 1, unit='d')\n",
    "        \n",
    "        psyc=0.054 #sychometric constant\n",
    "        tmean = (df.maxTemp+df.minTemp)/2\n",
    "        e_s = (vap_pres(df.maxTemp)+vap_pres(df.minTemp))/2\n",
    "        e_a = vap_pres(df.minTemp)\n",
    "        slope = 4098*vap_pres(tmean)/(tmean+237.3)**2\n",
    "        R_ns=(1-0.23)*df.rad\n",
    "        sb_const = 4.903e-9\n",
    "        R_nl = sb_const*0.5*((df.maxTemp+273.15)**4+(df.minTemp+273.15)**4)*(0.34-0.14*(e_a)**0.5)*(1.35*0.77-0.35)\n",
    "        Rn = R_ns-R_nl\n",
    "        u2=wind_speed\n",
    "\n",
    "        eto = 0.408*slope*Rn+ (psyc*900*u2*(e_s-e_a)/(tmean+273))/(slope+psyc*(1+0.34*u2))\n",
    "        df[\"eto\"] = eto\n",
    "        \n",
    "        #df[\"eto\"] = df.rad*(0.0023)*(((df.maxTemp+df.minTemp)/2)+17.8)*(df.maxTemp-df.minTemp)**0.5\n",
    "        df.eto=df.eto.clip(0.1)\n",
    "        df=df[[\"minTemp\",\"maxTemp\",\"precip\",\"eto\",'date']]\n",
    "        df.columns=[\"MinTemp\",\"MaxTemp\",\"Precipitation\",\"ReferenceET\",\"Date\"]\n",
    "\n",
    "        \n",
    "    return df"
   ]
  },
  {
   "cell_type": "code",
   "execution_count": null,
   "metadata": {},
   "outputs": [],
   "source": [
    "#export\n",
    "def select_lars_wdf(df,simyear):\n",
    "    temp =  df[df.simyear==simyear][[\"MinTemp\",\"MaxTemp\",\"Precipitation\",\"ReferenceET\",\"Date\"]]\n",
    "    return temp.reset_index(drop=True)"
   ]
  },
  {
   "cell_type": "code",
   "execution_count": null,
   "metadata": {},
   "outputs": [],
   "source": [
    "#list_data()"
   ]
  },
  {
   "cell_type": "code",
   "execution_count": null,
   "metadata": {},
   "outputs": [],
   "source": [
    "df=prepare_lars_weather(get_filepath('CP.dat'),-1,False,[\"year\",\"jday\",\"maxTemp\",\"minTemp\",\"precip\",\"rad\"])"
   ]
  },
  {
   "cell_type": "code",
   "execution_count": null,
   "metadata": {},
   "outputs": [
    {
     "data": {
      "text/html": [
       "<div>\n",
       "<style scoped>\n",
       "    .dataframe tbody tr th:only-of-type {\n",
       "        vertical-align: middle;\n",
       "    }\n",
       "\n",
       "    .dataframe tbody tr th {\n",
       "        vertical-align: top;\n",
       "    }\n",
       "\n",
       "    .dataframe thead th {\n",
       "        text-align: right;\n",
       "    }\n",
       "</style>\n",
       "<table border=\"1\" class=\"dataframe\">\n",
       "  <thead>\n",
       "    <tr style=\"text-align: right;\">\n",
       "      <th></th>\n",
       "      <th>MinTemp</th>\n",
       "      <th>MaxTemp</th>\n",
       "      <th>Precipitation</th>\n",
       "      <th>ReferenceET</th>\n",
       "      <th>Date</th>\n",
       "    </tr>\n",
       "  </thead>\n",
       "  <tbody>\n",
       "    <tr>\n",
       "      <th>0</th>\n",
       "      <td>3.89</td>\n",
       "      <td>17.22</td>\n",
       "      <td>0.00</td>\n",
       "      <td>1.868710</td>\n",
       "      <td>1981-05-20</td>\n",
       "    </tr>\n",
       "    <tr>\n",
       "      <th>1</th>\n",
       "      <td>6.67</td>\n",
       "      <td>21.67</td>\n",
       "      <td>0.00</td>\n",
       "      <td>2.665948</td>\n",
       "      <td>1981-05-21</td>\n",
       "    </tr>\n",
       "    <tr>\n",
       "      <th>2</th>\n",
       "      <td>5.56</td>\n",
       "      <td>25.00</td>\n",
       "      <td>2.01</td>\n",
       "      <td>3.420034</td>\n",
       "      <td>1981-05-22</td>\n",
       "    </tr>\n",
       "    <tr>\n",
       "      <th>3</th>\n",
       "      <td>5.56</td>\n",
       "      <td>19.44</td>\n",
       "      <td>0.00</td>\n",
       "      <td>2.440758</td>\n",
       "      <td>1981-05-23</td>\n",
       "    </tr>\n",
       "    <tr>\n",
       "      <th>4</th>\n",
       "      <td>5.56</td>\n",
       "      <td>24.44</td>\n",
       "      <td>0.00</td>\n",
       "      <td>3.520489</td>\n",
       "      <td>1981-05-24</td>\n",
       "    </tr>\n",
       "  </tbody>\n",
       "</table>\n",
       "</div>"
      ],
      "text/plain": [
       "   MinTemp  MaxTemp  Precipitation  ReferenceET       Date\n",
       "0     3.89    17.22           0.00     1.868710 1981-05-20\n",
       "1     6.67    21.67           0.00     2.665948 1981-05-21\n",
       "2     5.56    25.00           2.01     3.420034 1981-05-22\n",
       "3     5.56    19.44           0.00     2.440758 1981-05-23\n",
       "4     5.56    24.44           0.00     3.520489 1981-05-24"
      ]
     },
     "execution_count": null,
     "metadata": {},
     "output_type": "execute_result"
    }
   ],
   "source": [
    "df.head()"
   ]
  },
  {
   "cell_type": "code",
   "execution_count": null,
   "metadata": {},
   "outputs": [],
   "source": [
    "df_gen=prepare_lars_weather(get_filepath('CP_EC-EARTH[CP,RCP45,2041-2060]WG.dat'),2050,True,[\"simyear\",\"jday\",\"minTemp\",\"maxTemp\",\"precip\",\"rad\"])"
   ]
  },
  {
   "cell_type": "code",
   "execution_count": null,
   "metadata": {},
   "outputs": [
    {
     "data": {
      "text/html": [
       "<div>\n",
       "<style scoped>\n",
       "    .dataframe tbody tr th:only-of-type {\n",
       "        vertical-align: middle;\n",
       "    }\n",
       "\n",
       "    .dataframe tbody tr th {\n",
       "        vertical-align: top;\n",
       "    }\n",
       "\n",
       "    .dataframe thead th {\n",
       "        text-align: right;\n",
       "    }\n",
       "</style>\n",
       "<table border=\"1\" class=\"dataframe\">\n",
       "  <thead>\n",
       "    <tr style=\"text-align: right;\">\n",
       "      <th></th>\n",
       "      <th>simyear</th>\n",
       "      <th>MinTemp</th>\n",
       "      <th>MaxTemp</th>\n",
       "      <th>Precipitation</th>\n",
       "      <th>ReferenceET</th>\n",
       "      <th>Date</th>\n",
       "    </tr>\n",
       "  </thead>\n",
       "  <tbody>\n",
       "    <tr>\n",
       "      <th>0</th>\n",
       "      <td>1</td>\n",
       "      <td>-0.2</td>\n",
       "      <td>0.7</td>\n",
       "      <td>0.0</td>\n",
       "      <td>0.120413</td>\n",
       "      <td>2050-01-01</td>\n",
       "    </tr>\n",
       "    <tr>\n",
       "      <th>1</th>\n",
       "      <td>1</td>\n",
       "      <td>-9.1</td>\n",
       "      <td>20.8</td>\n",
       "      <td>0.0</td>\n",
       "      <td>3.571857</td>\n",
       "      <td>2050-01-02</td>\n",
       "    </tr>\n",
       "    <tr>\n",
       "      <th>2</th>\n",
       "      <td>1</td>\n",
       "      <td>-7.1</td>\n",
       "      <td>10.1</td>\n",
       "      <td>0.0</td>\n",
       "      <td>1.641596</td>\n",
       "      <td>2050-01-03</td>\n",
       "    </tr>\n",
       "    <tr>\n",
       "      <th>3</th>\n",
       "      <td>1</td>\n",
       "      <td>-4.0</td>\n",
       "      <td>18.3</td>\n",
       "      <td>0.0</td>\n",
       "      <td>2.675223</td>\n",
       "      <td>2050-01-04</td>\n",
       "    </tr>\n",
       "    <tr>\n",
       "      <th>4</th>\n",
       "      <td>1</td>\n",
       "      <td>-6.5</td>\n",
       "      <td>1.1</td>\n",
       "      <td>0.0</td>\n",
       "      <td>0.603963</td>\n",
       "      <td>2050-01-05</td>\n",
       "    </tr>\n",
       "  </tbody>\n",
       "</table>\n",
       "</div>"
      ],
      "text/plain": [
       "   simyear  MinTemp  MaxTemp  Precipitation  ReferenceET       Date\n",
       "0        1     -0.2      0.7            0.0     0.120413 2050-01-01\n",
       "1        1     -9.1     20.8            0.0     3.571857 2050-01-02\n",
       "2        1     -7.1     10.1            0.0     1.641596 2050-01-03\n",
       "3        1     -4.0     18.3            0.0     2.675223 2050-01-04\n",
       "4        1     -6.5      1.1            0.0     0.603963 2050-01-05"
      ]
     },
     "execution_count": null,
     "metadata": {},
     "output_type": "execute_result"
    }
   ],
   "source": [
    "df_gen.head()"
   ]
  },
  {
   "cell_type": "code",
   "execution_count": null,
   "metadata": {},
   "outputs": [
    {
     "data": {
      "text/html": [
       "<div>\n",
       "<style scoped>\n",
       "    .dataframe tbody tr th:only-of-type {\n",
       "        vertical-align: middle;\n",
       "    }\n",
       "\n",
       "    .dataframe tbody tr th {\n",
       "        vertical-align: top;\n",
       "    }\n",
       "\n",
       "    .dataframe thead th {\n",
       "        text-align: right;\n",
       "    }\n",
       "</style>\n",
       "<table border=\"1\" class=\"dataframe\">\n",
       "  <thead>\n",
       "    <tr style=\"text-align: right;\">\n",
       "      <th></th>\n",
       "      <th>MinTemp</th>\n",
       "      <th>MaxTemp</th>\n",
       "      <th>Precipitation</th>\n",
       "      <th>ReferenceET</th>\n",
       "      <th>Date</th>\n",
       "    </tr>\n",
       "  </thead>\n",
       "  <tbody>\n",
       "    <tr>\n",
       "      <th>0</th>\n",
       "      <td>-0.2</td>\n",
       "      <td>0.7</td>\n",
       "      <td>0.0</td>\n",
       "      <td>0.120413</td>\n",
       "      <td>2050-01-01</td>\n",
       "    </tr>\n",
       "    <tr>\n",
       "      <th>1</th>\n",
       "      <td>-9.1</td>\n",
       "      <td>20.8</td>\n",
       "      <td>0.0</td>\n",
       "      <td>3.571857</td>\n",
       "      <td>2050-01-02</td>\n",
       "    </tr>\n",
       "    <tr>\n",
       "      <th>2</th>\n",
       "      <td>-7.1</td>\n",
       "      <td>10.1</td>\n",
       "      <td>0.0</td>\n",
       "      <td>1.641596</td>\n",
       "      <td>2050-01-03</td>\n",
       "    </tr>\n",
       "    <tr>\n",
       "      <th>3</th>\n",
       "      <td>-4.0</td>\n",
       "      <td>18.3</td>\n",
       "      <td>0.0</td>\n",
       "      <td>2.675223</td>\n",
       "      <td>2050-01-04</td>\n",
       "    </tr>\n",
       "    <tr>\n",
       "      <th>4</th>\n",
       "      <td>-6.5</td>\n",
       "      <td>1.1</td>\n",
       "      <td>0.0</td>\n",
       "      <td>0.603963</td>\n",
       "      <td>2050-01-05</td>\n",
       "    </tr>\n",
       "  </tbody>\n",
       "</table>\n",
       "</div>"
      ],
      "text/plain": [
       "   MinTemp  MaxTemp  Precipitation  ReferenceET       Date\n",
       "0     -0.2      0.7            0.0     0.120413 2050-01-01\n",
       "1     -9.1     20.8            0.0     3.571857 2050-01-02\n",
       "2     -7.1     10.1            0.0     1.641596 2050-01-03\n",
       "3     -4.0     18.3            0.0     2.675223 2050-01-04\n",
       "4     -6.5      1.1            0.0     0.603963 2050-01-05"
      ]
     },
     "execution_count": null,
     "metadata": {},
     "output_type": "execute_result"
    }
   ],
   "source": [
    "select_lars_wdf(df_gen,1).head()"
   ]
  },
  {
   "cell_type": "code",
   "execution_count": null,
   "metadata": {},
   "outputs": [],
   "source": []
  },
  {
   "cell_type": "code",
   "execution_count": null,
   "metadata": {},
   "outputs": [],
   "source": []
  },
  {
   "cell_type": "code",
   "execution_count": null,
   "metadata": {},
   "outputs": [],
   "source": [
    "crop=CropClass('Maize',PlantingDate='05/01',HarvestDate='10/30',CalendarType=1,Emergence = 6,Senescence=107,MaxRooting=108,Maturity=132,HIstart=66,Flowering=13,YldForm=61,CDC=0.117,CGC=0.163)\n",
    "          \n",
    "soil=SoilClass('ClayLoam')\n",
    "irrmngt=IrrMngtClass(1,SMT=[70]*4)\n",
    "\n",
    "model=AquaCropModel('1982/05/01','2018/10/30',df,soil,crop,InitWCClass(),IrrMngt=irrmngt)\n",
    "model.initialize()\n",
    "model.step(till_termination=True)\n"
   ]
  },
  {
   "cell_type": "code",
   "execution_count": null,
   "metadata": {},
   "outputs": [
    {
     "data": {
      "text/plain": [
       "array([538.53079141, 572.34716376, 835.34774014, 808.63032224,\n",
       "       663.77618937])"
      ]
     },
     "execution_count": null,
     "metadata": {},
     "output_type": "execute_result"
    }
   ],
   "source": [
    "yields = model.Outputs.Final['Yield (tonne/ha)'].values;yields[:5]\n",
    "tirrs = model.Outputs.Final['Seasonal irrigation (mm)'].values;tirrs[:5]"
   ]
  },
  {
   "cell_type": "code",
   "execution_count": null,
   "metadata": {},
   "outputs": [],
   "source": []
  },
  {
   "cell_type": "code",
   "execution_count": null,
   "metadata": {},
   "outputs": [],
   "source": [
    "ylist=[]\n",
    "tlist=[]\n",
    "a=[]\n",
    "for i in range(100):\n",
    "    wdf = select_lars_wdf(df_gen,i+1)\n",
    "    \n",
    "    model=AquaCropModel('2050/05/01','2050/10/30',wdf,soil,crop,InitWCClass(),IrrMngt=irrmngt)\n",
    "    model.initialize()\n",
    "    model.step(till_termination=True)\n",
    "    ylist.append(model.Outputs.Final['Yield (tonne/ha)'].mean())\n",
    "    tlist.append(model.Outputs.Final['Seasonal irrigation (mm)'].mean())\n",
    "    \n",
    "    a.append((model.Outputs.Final['Harvest Date (YYYY/MM/DD)']-pd.to_datetime('2050/05/01'))[0]/np.timedelta64(1,'D'))"
   ]
  },
  {
   "cell_type": "code",
   "execution_count": null,
   "metadata": {},
   "outputs": [
    {
     "data": {
      "text/html": [
       "<div>\n",
       "<style scoped>\n",
       "    .dataframe tbody tr th:only-of-type {\n",
       "        vertical-align: middle;\n",
       "    }\n",
       "\n",
       "    .dataframe tbody tr th {\n",
       "        vertical-align: top;\n",
       "    }\n",
       "\n",
       "    .dataframe thead th {\n",
       "        text-align: right;\n",
       "    }\n",
       "</style>\n",
       "<table border=\"1\" class=\"dataframe\">\n",
       "  <thead>\n",
       "    <tr style=\"text-align: right;\">\n",
       "      <th></th>\n",
       "      <th>Season</th>\n",
       "      <th>Crop Type</th>\n",
       "      <th>Harvest Date (YYYY/MM/DD)</th>\n",
       "      <th>Harvest Date (Step)</th>\n",
       "      <th>Yield (tonne/ha)</th>\n",
       "      <th>Seasonal irrigation (mm)</th>\n",
       "    </tr>\n",
       "  </thead>\n",
       "  <tbody>\n",
       "    <tr>\n",
       "      <th>0</th>\n",
       "      <td>0</td>\n",
       "      <td>Maize</td>\n",
       "      <td>2050-09-10</td>\n",
       "      <td>131</td>\n",
       "      <td>14.810593</td>\n",
       "      <td>645.947284</td>\n",
       "    </tr>\n",
       "  </tbody>\n",
       "</table>\n",
       "</div>"
      ],
      "text/plain": [
       "  Season Crop Type Harvest Date (YYYY/MM/DD) Harvest Date (Step)  \\\n",
       "0      0     Maize                2050-09-10                 131   \n",
       "\n",
       "   Yield (tonne/ha)  Seasonal irrigation (mm)  \n",
       "0         14.810593                645.947284  "
      ]
     },
     "execution_count": null,
     "metadata": {},
     "output_type": "execute_result"
    }
   ],
   "source": [
    "model.Outputs.Final"
   ]
  },
  {
   "cell_type": "code",
   "execution_count": null,
   "metadata": {},
   "outputs": [],
   "source": []
  },
  {
   "cell_type": "code",
   "execution_count": null,
   "metadata": {},
   "outputs": [
    {
     "data": {
      "text/plain": [
       "470.55"
      ]
     },
     "execution_count": null,
     "metadata": {},
     "output_type": "execute_result"
    }
   ],
   "source": [
    "model.ParamStruct.CO2.CurrentConc"
   ]
  },
  {
   "cell_type": "code",
   "execution_count": null,
   "metadata": {},
   "outputs": [
    {
     "name": "stderr",
     "output_type": "stream",
     "text": [
      "/home/tom/anaconda3/envs/aquacrop_new/lib/python3.8/site-packages/seaborn/distributions.py:2551: FutureWarning: `distplot` is a deprecated function and will be removed in a future version. Please adapt your code to use either `displot` (a figure-level function with similar flexibility) or `histplot` (an axes-level function for histograms).\n",
      "  warnings.warn(msg, FutureWarning)\n",
      "/home/tom/anaconda3/envs/aquacrop_new/lib/python3.8/site-packages/seaborn/distributions.py:2551: FutureWarning: `distplot` is a deprecated function and will be removed in a future version. Please adapt your code to use either `displot` (a figure-level function with similar flexibility) or `histplot` (an axes-level function for histograms).\n",
      "  warnings.warn(msg, FutureWarning)\n"
     ]
    },
    {
     "data": {
      "text/plain": [
       "Text(0.5, 0, 'yield')"
      ]
     },
     "execution_count": null,
     "metadata": {},
     "output_type": "execute_result"
    },
    {
     "data": {
      "image/png": "[encoded data removed]",
      "text/plain": [
       "<Figure size 432x288 with 1 Axes>"
      ]
     },
     "metadata": {
      "needs_background": "light"
     },
     "output_type": "display_data"
    }
   ],
   "source": [
    "sns.distplot(yields,label='1982-2018')\n",
    "sns.distplot(np.array(ylist),label='2050')\n",
    "plt.legend()\n",
    "plt.xlabel('yield')"
   ]
  },
  {
   "cell_type": "code",
   "execution_count": null,
   "metadata": {},
   "outputs": [
    {
     "name": "stderr",
     "output_type": "stream",
     "text": [
      "/home/tom/anaconda3/envs/aquacrop_new/lib/python3.8/site-packages/seaborn/distributions.py:2551: FutureWarning: `distplot` is a deprecated function and will be removed in a future version. Please adapt your code to use either `displot` (a figure-level function with similar flexibility) or `histplot` (an axes-level function for histograms).\n",
      "  warnings.warn(msg, FutureWarning)\n",
      "/home/tom/anaconda3/envs/aquacrop_new/lib/python3.8/site-packages/seaborn/distributions.py:2551: FutureWarning: `distplot` is a deprecated function and will be removed in a future version. Please adapt your code to use either `displot` (a figure-level function with similar flexibility) or `histplot` (an axes-level function for histograms).\n",
      "  warnings.warn(msg, FutureWarning)\n"
     ]
    },
    {
     "data": {
      "text/plain": [
       "Text(0.5, 0, 'tirr')"
      ]
     },
     "execution_count": null,
     "metadata": {},
     "output_type": "execute_result"
    },
    {
     "data": {
      "image/png": "[encoded data removed]",
      "text/plain": [
       "<Figure size 432x288 with 1 Axes>"
      ]
     },
     "metadata": {
      "needs_background": "light"
     },
     "output_type": "display_data"
    }
   ],
   "source": [
    "sns.distplot(tirrs,label='1982-2018')\n",
    "sns.distplot(np.array(tlist),label='2050')\n",
    "plt.legend()\n",
    "plt.xlabel('tirr')"
   ]
  },
  {
   "cell_type": "code",
   "execution_count": null,
   "metadata": {},
   "outputs": [],
   "source": [
    "\n",
    "def run_model(crop):\n",
    "    ylist=[]\n",
    "    for i in range(100):\n",
    "        wdf = select_lars_wdf(df_gen,i+1)\n",
    "\n",
    "        model=AquaCropModel('2050/01/01','2050/12/31',wdf,soil,crop,InitWCClass())\n",
    "        model.initialize()\n",
    "        model.step(till_termination=True)\n",
    "        ylist.append(model.Outputs.Final.Yield.mean())\n",
    "        \n",
    "    return np.mean(ylist)"
   ]
  },
  {
   "cell_type": "code",
   "execution_count": null,
   "metadata": {},
   "outputs": [],
   "source": [
    "def run_model_old(crop):\n",
    "\n",
    "    model=AquaCropModel('1982/01/01','2018/12/30',df,soil,crop,InitWCClass())\n",
    "        #model=AquaCropModel('2050/01/01','2050/12/31',wdf,soil,crop)\n",
    "    model.initialize()\n",
    "    model.step(till_termination=True)\n",
    "        \n",
    "    return model.Outputs.Final.Yield.mean()"
   ]
  },
  {
   "cell_type": "code",
   "execution_count": null,
   "metadata": {},
   "outputs": [],
   "source": [
    "# for i in range(1,23):\n",
    "#     print(i)\n",
    "#     start=pd.to_datetime('1982/01/01')\n",
    "#     delta= np.timedelta64(7*i,'D')\n",
    "#     plant=start+delta\n",
    "#     harvest=plant+np.timedelta64(6,'M')\n",
    "\n",
    "\n",
    "#     maize = CropClass('Maize',\n",
    "#                       PlantingDate=plant.strftime(\"%m/%d\"),\n",
    "#                       HarvestDate=harvest.strftime(\"%m/%d\"))\n",
    "    \n",
    "#     y=run_model_old(maize)\n",
    "    \n",
    "\n",
    "\n",
    "#     plt.scatter(i,y)\n",
    "\n",
    "# plt.show()"
   ]
  },
  {
   "cell_type": "code",
   "execution_count": null,
   "metadata": {},
   "outputs": [],
   "source": [
    "# for i in range(1,24):\n",
    "#     print(i)\n",
    "#     start=pd.to_datetime('2050/01/01')\n",
    "#     delta= np.timedelta64(7*i,'D')\n",
    "#     plant=start+delta\n",
    "#     harvest=plant+np.timedelta64(6,'M')\n",
    "\n",
    "\n",
    "#     maize = CropClass('Maize',\n",
    "#                       PlantingDate=plant.strftime(\"%m/%d\"),\n",
    "#                       HarvestDate=harvest.strftime(\"%m/%d\"))\n",
    "    \n",
    "#     y=run_model(maize)\n",
    "    \n",
    "\n",
    "\n",
    "#     plt.scatter(i,y)\n",
    "\n",
    "# plt.show()"
   ]
  },
  {
   "cell_type": "code",
   "execution_count": null,
   "metadata": {},
   "outputs": [],
   "source": []
  }
 ],
 "metadata": {
  "kernelspec": {
   "display_name": "Python 3",
   "language": "python",
   "name": "python3"
  }
 },
 "nbformat": 4,
 "nbformat_minor": 4
}

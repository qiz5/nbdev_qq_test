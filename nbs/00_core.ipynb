{
 "cells": [
  {
   "cell_type": "code",
   "execution_count": null,
   "metadata": {},
   "outputs": [],
   "source": [
    "# default_exp core"
   ]
  },
  {
   "cell_type": "markdown",
   "metadata": {},
   "source": [
    "# core\n",
    "\n",
    "> Contains functions to run model"
   ]
  },
  {
   "cell_type": "code",
   "execution_count": null,
   "metadata": {},
   "outputs": [],
   "source": [
    "#hide\n",
    "from nbdev.showdoc import *"
   ]
  },
  {
   "cell_type": "code",
   "execution_count": null,
   "metadata": {},
   "outputs": [],
   "source": [
    "#hide \n",
    "%load_ext autoreload\n",
    "%autoreload 2"
   ]
  },
  {
   "cell_type": "code",
   "execution_count": null,
   "metadata": {},
   "outputs": [
    {
     "data": {
      "text/plain": [
       "[None, None]"
      ]
     },
     "execution_count": null,
     "metadata": {},
     "output_type": "execute_result"
    }
   ],
   "source": [
    "#export\n",
    "import matplotlib.pyplot as plt\n",
    "import numpy as np\n",
    "import pathlib\n",
    "import os\n",
    "import pandas as pd\n",
    "import sys\n",
    "[sys.path.append(i) for i in ['.', '..']]"
   ]
  },
  {
   "cell_type": "code",
   "execution_count": null,
   "metadata": {},
   "outputs": [],
   "source": [
    "#export\n",
    "from aquacrop.initialize import *\n",
    "from aquacrop.timestep import *\n",
    "from aquacrop.classes import *\n",
    "from aquacrop import data"
   ]
  },
  {
   "cell_type": "code",
   "execution_count": null,
   "metadata": {},
   "outputs": [],
   "source": [
    "#export\n",
    "def list_data():\n",
    "    \"\"\"\n",
    "    lists all built-in data files\n",
    "    \"\"\"\n",
    "    path=data.__path__[0]\n",
    "    \n",
    "    return os.listdir(path)"
   ]
  },
  {
   "cell_type": "code",
   "execution_count": null,
   "metadata": {},
   "outputs": [],
   "source": [
    "#export \n",
    "def get_filepath(filename):\n",
    "    \"\"\"\n",
    "    get selected data file\n",
    "    \"\"\"\n",
    "    filepath = os.path.join(data.__path__[0],filename)\n",
    "    \n",
    "    return filepath\n"
   ]
  },
  {
   "cell_type": "code",
   "execution_count": null,
   "metadata": {},
   "outputs": [],
   "source": [
    "#export \n",
    "def get_data(filename, **kwargs):\n",
    "    \"\"\"\n",
    "    get selected data file\n",
    "    \"\"\"\n",
    "    filepath = os.path.join(data.__path__[0],filename)\n",
    "    \n",
    "    return np.genfromtxt(filepath,**kwargs)"
   ]
  },
  {
   "cell_type": "code",
   "execution_count": null,
   "metadata": {},
   "outputs": [],
   "source": [
    "#export\n",
    "def prepare_weather(weatherFilePath):\n",
    "    \"\"\"\n",
    "    function to read in weather data and return a dataframe containing \n",
    "    the weather data\n",
    "    \n",
    "    *Arguments:*\\n\n",
    "        \n",
    "    `FileLocations` : `FileLocationsClass`:  input File Locations\n",
    "        \n",
    "    `weatherFilePath` : `str` :  file location of weather data\n",
    "\n",
    "\n",
    "\n",
    "    *Returns:*\n",
    "    \n",
    "    `weather_df`: `pandas.DataFrame` :  weather data for simulation period\n",
    "        \n",
    "    \"\"\"\n",
    "    \n",
    "\n",
    "    weather_df = pd.read_csv(weatherFilePath,header=0,delim_whitespace=True)\n",
    "    \n",
    "    assert len(weather_df.columns) == 7\n",
    "    \n",
    "    # rename the columns\n",
    "    weather_df.columns = str(\"Day Month Year MinTemp MaxTemp Precipitation ReferenceET\").split()\n",
    "    \n",
    "    # put the weather dates into datetime format\n",
    "    weather_df[\"Date\"] = pd.to_datetime(weather_df[['Year','Month','Day']])\n",
    "    \n",
    "    # drop the day month year columns\n",
    "    weather_df = weather_df.drop([\"Day\",\"Month\",\"Year\"],axis=1)    \n",
    "    \n",
    "    # set limit on ET0 to avoid divide by zero errors\n",
    "    weather_df.ReferenceET.clip(lower=0.1,inplace=True)\n",
    "\n",
    "    \n",
    "    return weather_df"
   ]
  },
  {
   "cell_type": "code",
   "execution_count": null,
   "metadata": {},
   "outputs": [
    {
     "data": {
      "text/markdown": [
       "<h4 id=\"prepare_weather\" class=\"doc_header\"><code>prepare_weather</code><a href=\"__main__.py#L2\" class=\"source_link\" style=\"float:right\">[source]</a></h4>\n",
       "\n",
       "> <code>prepare_weather</code>(**`weatherFilePath`**)\n",
       "\n",
       "function to read in weather data and return a dataframe containing \n",
       "the weather data\n",
       "\n",
       "*Arguments:*\n",
       "\n",
       "    \n",
       "`FileLocations` : `FileLocationsClass`:  input File Locations\n",
       "    \n",
       "`weatherFilePath` : `str` :  file location of weather data\n",
       "\n",
       "\n",
       "\n",
       "*Returns:*\n",
       "\n",
       "`weather_df`: `pandas.DataFrame` :  weather data for simulation period\n",
       "    "
      ],
      "text/plain": [
       "<IPython.core.display.Markdown object>"
      ]
     },
     "metadata": {},
     "output_type": "display_data"
    }
   ],
   "source": [
    "#hide\n",
    "show_doc(prepare_weather)"
   ]
  },
  {
   "cell_type": "code",
   "execution_count": null,
   "metadata": {},
   "outputs": [],
   "source": [
    "#export\n",
    "class AquaCropModel:\n",
    "    \n",
    "    def __init__(self,SimStartTime,SimEndTime,wdf,Soil,Crop,InitWC,\n",
    "                     IrrMngt=None,FieldMngt=None,FallowFieldMngt=None,\n",
    "                     Groundwater=None,planting_dates=None,\n",
    "                     harvest_dates=None,CO2conc=None):\n",
    "        \n",
    "        self.SimStartTime = SimStartTime\n",
    "        self.SimEndTime = SimEndTime\n",
    "        self.wdf = wdf\n",
    "        self.Soil = Soil\n",
    "        self.Crop = Crop\n",
    "        self.InitWC = InitWC\n",
    "        self.planting_dates = planting_dates\n",
    "        self.harvest_dates = harvest_dates\n",
    "        self.CO2conc = CO2conc\n",
    "        \n",
    "        self.IrrMngt = IrrMngt\n",
    "        self.FieldMngt = FieldMngt\n",
    "        self.FallowFieldMngt = FallowFieldMngt\n",
    "        self.Groundwater = Groundwater\n",
    "        \n",
    "        if IrrMngt == None:  self.IrrMngt = IrrMngtClass(IrrMethod=0);\n",
    "        if FieldMngt == None:  self.FieldMngt = FieldMngtClass();\n",
    "        if FallowFieldMngt == None:  self.FallowFieldMngt = FieldMngtClass();\n",
    "        if Groundwater == None:  self.Groundwater = GwClass();\n",
    "        #if InitWC == None:  self.InitWC = InitWCClass();\n",
    "\n",
    "\n",
    "\n",
    "\n",
    "    def initialize(self,):\n",
    "        \"\"\"\n",
    "        Initialize variables\n",
    "\n",
    "\n",
    "        \"\"\"\n",
    "\n",
    "        # define model runtime\n",
    "        self.ClockStruct = read_clock_paramaters(self.SimStartTime,self.SimEndTime)\n",
    "\n",
    "        # get weather data\n",
    "        self.weather_df = read_weather_inputs(self.ClockStruct,self.wdf)\n",
    "                \n",
    "        # read model params\n",
    "        self.ClockStruct, self.ParamStruct = read_model_parameters(self.ClockStruct,self.Soil,\n",
    "                                                                   self.Crop,self.weather_df)\n",
    "\n",
    "        # read irrigation management\n",
    "        self.ParamStruct = read_irrigation_management(self.ParamStruct,self.IrrMngt,self.ClockStruct)\n",
    "\n",
    "        # read field management\n",
    "        self.ParamStruct = read_field_management(self.ParamStruct,self.FieldMngt,self.FallowFieldMngt)\n",
    "\n",
    "        # read groundwater table\n",
    "        self.ParamStruct = read_groundwater_table(self.ParamStruct,self.Groundwater,self.ClockStruct)\n",
    "\n",
    "        # Compute additional variables\n",
    "        self.ParamStruct.CO2concAdj = self.CO2conc\n",
    "        self.ParamStruct = compute_variables(self.ParamStruct,self.weather_df,self.ClockStruct)\n",
    "\n",
    "        # read, calculate inital conditions\n",
    "        self.ParamStruct, self.InitCond = read_model_initial_conditions(self.ParamStruct,self.ClockStruct,self.InitWC)\n",
    "\n",
    "        self.ParamStruct = create_soil_profile(self.ParamStruct)\n",
    "\n",
    "        #self.InitCond.ParamStruct = self.ParamStruct\n",
    "\n",
    "        Outputs = OutputClass()\n",
    "        Outputs.Water = np.zeros((len(self.ClockStruct.TimeSpan),3+len(self.InitCond.th)))\n",
    "        Outputs.Flux = np.zeros((len(self.ClockStruct.TimeSpan),16))\n",
    "        Outputs.Growth = np.zeros((len(self.ClockStruct.TimeSpan),13))\n",
    "        Outputs.Final = pd.DataFrame(columns = ['Season','Crop Type','Harvest Date (YYYY/MM/DD)',\n",
    "                                                'Harvest Date (Step)','Yield (tonne/ha)',\n",
    "                                                'Seasonal irrigation (mm)'])\n",
    "\n",
    "\n",
    "        self.Outputs=Outputs\n",
    "        \n",
    "         # save model weather to InitCond\n",
    "        self.weather = self.weather_df.values\n",
    "\n",
    "        #return self.ClockStruct,self.InitCond,self.Outputs\n",
    "        return \n",
    "    \n",
    "    \n",
    "    def step(self,num_steps=1,till_termination=False):\n",
    "\n",
    "        if till_termination==True:\n",
    "\n",
    "            while self.ClockStruct.ModelTermination == False:\n",
    "\n",
    "                self.ClockStruct,self.InitCond,self.ParamStruct,self.Outputs = self.perform_timestep()\n",
    "        else:\n",
    "\n",
    "            for i in range(num_steps):\n",
    "\n",
    "                self.ClockStruct,self.InitCond,self.ParamStruct,self.Outputs = self.perform_timestep()\n",
    "                \n",
    "                if self.ClockStruct.ModelTermination: return\n",
    "\n",
    "        #return self.ClockStruct,self.InitCond,self.Outputs\n",
    "        return \n",
    "\n",
    "\n",
    "    def perform_timestep(self):\n",
    "\n",
    "        \"\"\"\n",
    "        Function to run a single time-step (day) calculation of AquaCrop-OS\n",
    "\n",
    "        \"\"\"\n",
    "\n",
    "\n",
    "        # extract weather data for current timestep\n",
    "        #weather_step = weather_df[weather_df.Date==ClockStruct.StepStartTime]\n",
    "        weather_step = self.weather[self.ClockStruct.TimeStepCounter]\n",
    "\n",
    "        #%% Get model solution %%\n",
    "        NewCond,ParamStruct,Outputs = solution(self.InitCond,self.ParamStruct,self.ClockStruct,weather_step,self.Outputs)\n",
    "\n",
    "        #%% Check model termination %%\n",
    "        ClockStruct = check_model_termination(self.ClockStruct,NewCond)\n",
    "\n",
    "        #%% Update time step %%\n",
    "        ClockStruct,InitCond,ParamStruct,Outputs = update_time(ClockStruct,NewCond,ParamStruct,Outputs,self.weather)\n",
    "\n",
    "        return ClockStruct,InitCond,ParamStruct,Outputs"
   ]
  },
  {
   "cell_type": "code",
   "execution_count": null,
   "metadata": {},
   "outputs": [
    {
     "data": {
      "text/markdown": [
       "<h2 id=\"AquaCropModel\" class=\"doc_header\"><code>class</code> <code>AquaCropModel</code><a href=\"\" class=\"source_link\" style=\"float:right\">[source]</a></h2>\n",
       "\n",
       "> <code>AquaCropModel</code>(**`SimStartTime`**, **`SimEndTime`**, **`wdf`**, **`Soil`**, **`Crop`**, **`InitWC`**, **`IrrMngt`**=*`None`*, **`FieldMngt`**=*`None`*, **`FallowFieldMngt`**=*`None`*, **`Groundwater`**=*`None`*, **`planting_dates`**=*`None`*, **`harvest_dates`**=*`None`*, **`CO2conc`**=*`None`*)\n",
       "\n"
      ],
      "text/plain": [
       "<IPython.core.display.Markdown object>"
      ]
     },
     "metadata": {},
     "output_type": "display_data"
    }
   ],
   "source": [
    "#hide\n",
    "show_doc(AquaCropModel)"
   ]
  },
  {
   "cell_type": "code",
   "execution_count": null,
   "metadata": {},
   "outputs": [],
   "source": []
  },
  {
   "cell_type": "code",
   "execution_count": null,
   "metadata": {},
   "outputs": [
    {
     "name": "stdout",
     "output_type": "stream",
     "text": [
      "10\n"
     ]
    },
    {
     "data": {
      "text/html": [
       "<div>\n",
       "<style scoped>\n",
       "    .dataframe tbody tr th:only-of-type {\n",
       "        vertical-align: middle;\n",
       "    }\n",
       "\n",
       "    .dataframe tbody tr th {\n",
       "        vertical-align: top;\n",
       "    }\n",
       "\n",
       "    .dataframe thead th {\n",
       "        text-align: right;\n",
       "    }\n",
       "</style>\n",
       "<table border=\"1\" class=\"dataframe\">\n",
       "  <thead>\n",
       "    <tr style=\"text-align: right;\">\n",
       "      <th></th>\n",
       "      <th>Season</th>\n",
       "      <th>Crop Type</th>\n",
       "      <th>Harvest Date</th>\n",
       "      <th>Harvest Date (Step)</th>\n",
       "      <th>Yield (tonne/ha)</th>\n",
       "      <th>Seasonal irrigation (mm)</th>\n",
       "    </tr>\n",
       "  </thead>\n",
       "  <tbody>\n",
       "    <tr>\n",
       "      <th>0</th>\n",
       "      <td>0</td>\n",
       "      <td>Wheat</td>\n",
       "      <td>1980-03-24</td>\n",
       "      <td>447</td>\n",
       "      <td>8.46338</td>\n",
       "      <td>10.0</td>\n",
       "    </tr>\n",
       "  </tbody>\n",
       "</table>\n",
       "</div>"
      ],
      "text/plain": [
       "  Season Crop Type Harvest Date Harvest Date (Step)  Yield (tonne/ha)  \\\n",
       "0      0     Wheat   1980-03-24                 447           8.46338   \n",
       "\n",
       "   Seasonal irrigation (mm)  \n",
       "0                      10.0  "
      ]
     },
     "execution_count": null,
     "metadata": {},
     "output_type": "execute_result"
    }
   ],
   "source": [
    "def compile_func():\n",
    "    wdf = prepare_weather(get_filepath('tunis_climate.txt'))\n",
    "    soil = SoilClass('SandyLoam')\n",
    "    crop = CropClass('Wheat',PlantingDate='10/01',HarvestDate='05/30')\n",
    "    irr_mngt = IrrMngtClass(1,SMT=[100]*4,MaxIrrSeason=10)\n",
    "    print(irr_mngt.MaxIrrSeason)\n",
    "    init_wc = InitWCClass()\n",
    "    model = AquaCropModel('1979/01/01','1980/05/31',wdf,soil,crop,InitWC=init_wc,IrrMngt=irr_mngt)\n",
    "    model.initialize()\n",
    "    model.step(till_termination=True)\n",
    "    return model\n",
    "    \n",
    "compile_func().Outputs.Final"
   ]
  },
  {
   "cell_type": "markdown",
   "metadata": {},
   "source": [
    "## Run model for 1 year\n",
    "\n",
    "### get weather data. Columns must be:\n",
    "\n",
    "1) whitespace seperated\n",
    "\n",
    "2) In this order : Day Month Year Tmin(C) Tmax(C) Prcp(mm) Et0(mm)"
   ]
  },
  {
   "cell_type": "code",
   "execution_count": null,
   "metadata": {},
   "outputs": [
    {
     "data": {
      "text/plain": [
       "(Timestamp('1979-01-01 00:00:00'), Timestamp('2002-05-31 00:00:00'))"
      ]
     },
     "execution_count": null,
     "metadata": {},
     "output_type": "execute_result"
    }
   ],
   "source": [
    "wdf = prepare_weather(get_filepath('tunis_climate.txt'))\n",
    "wdf.Date.min(),wdf.Date.max()"
   ]
  },
  {
   "cell_type": "markdown",
   "metadata": {},
   "source": [
    "now we have the range of dates in our weather file we have to create our soil and crop"
   ]
  },
  {
   "cell_type": "code",
   "execution_count": null,
   "metadata": {},
   "outputs": [
    {
     "data": {
      "text/html": [
       "<div>\n",
       "<style scoped>\n",
       "    .dataframe tbody tr th:only-of-type {\n",
       "        vertical-align: middle;\n",
       "    }\n",
       "\n",
       "    .dataframe tbody tr th {\n",
       "        vertical-align: top;\n",
       "    }\n",
       "\n",
       "    .dataframe thead th {\n",
       "        text-align: right;\n",
       "    }\n",
       "</style>\n",
       "<table border=\"1\" class=\"dataframe\">\n",
       "  <thead>\n",
       "    <tr style=\"text-align: right;\">\n",
       "      <th></th>\n",
       "      <th>Comp</th>\n",
       "      <th>Layer</th>\n",
       "      <th>dz</th>\n",
       "      <th>dzsum</th>\n",
       "      <th>zBot</th>\n",
       "      <th>zTop</th>\n",
       "      <th>zMid</th>\n",
       "      <th>th_dry</th>\n",
       "      <th>th_wp</th>\n",
       "      <th>th_fc</th>\n",
       "      <th>th_s</th>\n",
       "      <th>Ksat</th>\n",
       "      <th>penetrability</th>\n",
       "      <th>tau</th>\n",
       "    </tr>\n",
       "  </thead>\n",
       "  <tbody>\n",
       "    <tr>\n",
       "      <th>0</th>\n",
       "      <td>0</td>\n",
       "      <td>1.0</td>\n",
       "      <td>0.1</td>\n",
       "      <td>0.1</td>\n",
       "      <td>0.1</td>\n",
       "      <td>0.0</td>\n",
       "      <td>0.05</td>\n",
       "      <td>0.05</td>\n",
       "      <td>0.1</td>\n",
       "      <td>0.22</td>\n",
       "      <td>0.41</td>\n",
       "      <td>1200</td>\n",
       "      <td>100</td>\n",
       "      <td>1</td>\n",
       "    </tr>\n",
       "    <tr>\n",
       "      <th>1</th>\n",
       "      <td>1</td>\n",
       "      <td>1.0</td>\n",
       "      <td>0.1</td>\n",
       "      <td>0.2</td>\n",
       "      <td>0.2</td>\n",
       "      <td>0.1</td>\n",
       "      <td>0.15</td>\n",
       "      <td>0.05</td>\n",
       "      <td>0.1</td>\n",
       "      <td>0.22</td>\n",
       "      <td>0.41</td>\n",
       "      <td>1200</td>\n",
       "      <td>100</td>\n",
       "      <td>1</td>\n",
       "    </tr>\n",
       "    <tr>\n",
       "      <th>2</th>\n",
       "      <td>2</td>\n",
       "      <td>1.0</td>\n",
       "      <td>0.1</td>\n",
       "      <td>0.3</td>\n",
       "      <td>0.3</td>\n",
       "      <td>0.2</td>\n",
       "      <td>0.25</td>\n",
       "      <td>0.05</td>\n",
       "      <td>0.1</td>\n",
       "      <td>0.22</td>\n",
       "      <td>0.41</td>\n",
       "      <td>1200</td>\n",
       "      <td>100</td>\n",
       "      <td>1</td>\n",
       "    </tr>\n",
       "    <tr>\n",
       "      <th>3</th>\n",
       "      <td>3</td>\n",
       "      <td>1.0</td>\n",
       "      <td>0.1</td>\n",
       "      <td>0.4</td>\n",
       "      <td>0.4</td>\n",
       "      <td>0.3</td>\n",
       "      <td>0.35</td>\n",
       "      <td>0.05</td>\n",
       "      <td>0.1</td>\n",
       "      <td>0.22</td>\n",
       "      <td>0.41</td>\n",
       "      <td>1200</td>\n",
       "      <td>100</td>\n",
       "      <td>1</td>\n",
       "    </tr>\n",
       "    <tr>\n",
       "      <th>4</th>\n",
       "      <td>4</td>\n",
       "      <td>1.0</td>\n",
       "      <td>0.1</td>\n",
       "      <td>0.5</td>\n",
       "      <td>0.5</td>\n",
       "      <td>0.4</td>\n",
       "      <td>0.45</td>\n",
       "      <td>0.05</td>\n",
       "      <td>0.1</td>\n",
       "      <td>0.22</td>\n",
       "      <td>0.41</td>\n",
       "      <td>1200</td>\n",
       "      <td>100</td>\n",
       "      <td>1</td>\n",
       "    </tr>\n",
       "    <tr>\n",
       "      <th>5</th>\n",
       "      <td>5</td>\n",
       "      <td>1.0</td>\n",
       "      <td>0.1</td>\n",
       "      <td>0.6</td>\n",
       "      <td>0.6</td>\n",
       "      <td>0.5</td>\n",
       "      <td>0.55</td>\n",
       "      <td>0.05</td>\n",
       "      <td>0.1</td>\n",
       "      <td>0.22</td>\n",
       "      <td>0.41</td>\n",
       "      <td>1200</td>\n",
       "      <td>100</td>\n",
       "      <td>1</td>\n",
       "    </tr>\n",
       "    <tr>\n",
       "      <th>6</th>\n",
       "      <td>6</td>\n",
       "      <td>1.0</td>\n",
       "      <td>0.1</td>\n",
       "      <td>0.7</td>\n",
       "      <td>0.7</td>\n",
       "      <td>0.6</td>\n",
       "      <td>0.65</td>\n",
       "      <td>0.05</td>\n",
       "      <td>0.1</td>\n",
       "      <td>0.22</td>\n",
       "      <td>0.41</td>\n",
       "      <td>1200</td>\n",
       "      <td>100</td>\n",
       "      <td>1</td>\n",
       "    </tr>\n",
       "    <tr>\n",
       "      <th>7</th>\n",
       "      <td>7</td>\n",
       "      <td>1.0</td>\n",
       "      <td>0.1</td>\n",
       "      <td>0.8</td>\n",
       "      <td>0.8</td>\n",
       "      <td>0.7</td>\n",
       "      <td>0.75</td>\n",
       "      <td>0.05</td>\n",
       "      <td>0.1</td>\n",
       "      <td>0.22</td>\n",
       "      <td>0.41</td>\n",
       "      <td>1200</td>\n",
       "      <td>100</td>\n",
       "      <td>1</td>\n",
       "    </tr>\n",
       "    <tr>\n",
       "      <th>8</th>\n",
       "      <td>8</td>\n",
       "      <td>1.0</td>\n",
       "      <td>0.1</td>\n",
       "      <td>0.9</td>\n",
       "      <td>0.9</td>\n",
       "      <td>0.8</td>\n",
       "      <td>0.85</td>\n",
       "      <td>0.05</td>\n",
       "      <td>0.1</td>\n",
       "      <td>0.22</td>\n",
       "      <td>0.41</td>\n",
       "      <td>1200</td>\n",
       "      <td>100</td>\n",
       "      <td>1</td>\n",
       "    </tr>\n",
       "    <tr>\n",
       "      <th>9</th>\n",
       "      <td>9</td>\n",
       "      <td>1.0</td>\n",
       "      <td>0.1</td>\n",
       "      <td>1.0</td>\n",
       "      <td>1.0</td>\n",
       "      <td>0.9</td>\n",
       "      <td>0.95</td>\n",
       "      <td>0.05</td>\n",
       "      <td>0.1</td>\n",
       "      <td>0.22</td>\n",
       "      <td>0.41</td>\n",
       "      <td>1200</td>\n",
       "      <td>100</td>\n",
       "      <td>1</td>\n",
       "    </tr>\n",
       "    <tr>\n",
       "      <th>10</th>\n",
       "      <td>10</td>\n",
       "      <td>1.0</td>\n",
       "      <td>0.1</td>\n",
       "      <td>1.1</td>\n",
       "      <td>1.1</td>\n",
       "      <td>1.0</td>\n",
       "      <td>1.05</td>\n",
       "      <td>0.05</td>\n",
       "      <td>0.1</td>\n",
       "      <td>0.22</td>\n",
       "      <td>0.41</td>\n",
       "      <td>1200</td>\n",
       "      <td>100</td>\n",
       "      <td>1</td>\n",
       "    </tr>\n",
       "    <tr>\n",
       "      <th>11</th>\n",
       "      <td>11</td>\n",
       "      <td>1.0</td>\n",
       "      <td>0.1</td>\n",
       "      <td>1.2</td>\n",
       "      <td>1.2</td>\n",
       "      <td>1.1</td>\n",
       "      <td>1.15</td>\n",
       "      <td>0.05</td>\n",
       "      <td>0.1</td>\n",
       "      <td>0.22</td>\n",
       "      <td>0.41</td>\n",
       "      <td>1200</td>\n",
       "      <td>100</td>\n",
       "      <td>1</td>\n",
       "    </tr>\n",
       "  </tbody>\n",
       "</table>\n",
       "</div>"
      ],
      "text/plain": [
       "    Comp  Layer   dz  dzsum  zBot  zTop  zMid  th_dry  th_wp  th_fc  th_s  \\\n",
       "0      0    1.0  0.1    0.1   0.1   0.0  0.05    0.05    0.1   0.22  0.41   \n",
       "1      1    1.0  0.1    0.2   0.2   0.1  0.15    0.05    0.1   0.22  0.41   \n",
       "2      2    1.0  0.1    0.3   0.3   0.2  0.25    0.05    0.1   0.22  0.41   \n",
       "3      3    1.0  0.1    0.4   0.4   0.3  0.35    0.05    0.1   0.22  0.41   \n",
       "4      4    1.0  0.1    0.5   0.5   0.4  0.45    0.05    0.1   0.22  0.41   \n",
       "5      5    1.0  0.1    0.6   0.6   0.5  0.55    0.05    0.1   0.22  0.41   \n",
       "6      6    1.0  0.1    0.7   0.7   0.6  0.65    0.05    0.1   0.22  0.41   \n",
       "7      7    1.0  0.1    0.8   0.8   0.7  0.75    0.05    0.1   0.22  0.41   \n",
       "8      8    1.0  0.1    0.9   0.9   0.8  0.85    0.05    0.1   0.22  0.41   \n",
       "9      9    1.0  0.1    1.0   1.0   0.9  0.95    0.05    0.1   0.22  0.41   \n",
       "10    10    1.0  0.1    1.1   1.1   1.0  1.05    0.05    0.1   0.22  0.41   \n",
       "11    11    1.0  0.1    1.2   1.2   1.1  1.15    0.05    0.1   0.22  0.41   \n",
       "\n",
       "    Ksat  penetrability  tau  \n",
       "0   1200            100    1  \n",
       "1   1200            100    1  \n",
       "2   1200            100    1  \n",
       "3   1200            100    1  \n",
       "4   1200            100    1  \n",
       "5   1200            100    1  \n",
       "6   1200            100    1  \n",
       "7   1200            100    1  \n",
       "8   1200            100    1  \n",
       "9   1200            100    1  \n",
       "10  1200            100    1  \n",
       "11  1200            100    1  "
      ]
     },
     "execution_count": null,
     "metadata": {},
     "output_type": "execute_result"
    }
   ],
   "source": [
    "soil = SoilClass('SandyLoam',dz=[0.05]*12)\n",
    "soil.profile"
   ]
  },
  {
   "cell_type": "code",
   "execution_count": null,
   "metadata": {},
   "outputs": [
    {
     "data": {
      "text/plain": [
       "1.5"
      ]
     },
     "execution_count": null,
     "metadata": {},
     "output_type": "execute_result"
    }
   ],
   "source": [
    "crop = CropClass('Wheat',PlantingDate='10/10',HarvestDate='05/30'); crop.Zmax"
   ]
  },
  {
   "cell_type": "markdown",
   "metadata": {},
   "source": [
    "create model"
   ]
  },
  {
   "cell_type": "code",
   "execution_count": null,
   "metadata": {},
   "outputs": [],
   "source": [
    "gw = GwClass(WaterTable='Y',Method='Constant',dates=['1979/01/01','1990/01/01'],values=[1.5,2])"
   ]
  },
  {
   "cell_type": "code",
   "execution_count": null,
   "metadata": {},
   "outputs": [],
   "source": [
    "model = AquaCropModel('1979/01/01','2002/05/31',wdf,soil,crop,InitWCClass(),Groundwater=gw)"
   ]
  },
  {
   "cell_type": "code",
   "execution_count": null,
   "metadata": {},
   "outputs": [],
   "source": [
    "model.initialize()"
   ]
  },
  {
   "cell_type": "code",
   "execution_count": null,
   "metadata": {},
   "outputs": [
    {
     "name": "stdout",
     "output_type": "stream",
     "text": [
      "CPU times: user 2.14 s, sys: 3.99 ms, total: 2.15 s\n",
      "Wall time: 2.15 s\n"
     ]
    }
   ],
   "source": [
    "%time model.step(till_termination=True)"
   ]
  },
  {
   "cell_type": "code",
   "execution_count": null,
   "metadata": {},
   "outputs": [
    {
     "data": {
      "text/plain": [
       "<AxesSubplot:>"
      ]
     },
     "execution_count": null,
     "metadata": {},
     "output_type": "execute_result"
    },
    {
     "data": {
      "image/png": "[encoded data removed]",
      "text/plain": [
       "<Figure size 432x288 with 1 Axes>"
      ]
     },
     "metadata": {
      "needs_background": "light"
     },
     "output_type": "display_data"
    }
   ],
   "source": [
    "model.Outputs.Final['Yield (tonne/ha)'].plot()"
   ]
  },
  {
   "cell_type": "code",
   "execution_count": null,
   "metadata": {},
   "outputs": [],
   "source": []
  }
 ],
 "metadata": {
  "kernelspec": {
   "display_name": "Python 3",
   "language": "python",
   "name": "python3"
  },
  "language_info": {
   "codemirror_mode": {
    "name": "ipython",
    "version": 3
   },
   "file_extension": ".py",
   "mimetype": "text/x-python",
   "name": "python",
   "nbconvert_exporter": "python",
   "pygments_lexer": "ipython3",
   "version": "3.8.5"
  }
 },
 "nbformat": 4,
 "nbformat_minor": 4
}
